{
 "cells": [
  {
   "cell_type": "code",
   "execution_count": 1,
   "metadata": {
    "execution": {
     "iopub.execute_input": "2022-01-05T20:51:54.233881Z",
     "iopub.status.busy": "2022-01-05T20:51:54.233527Z",
     "iopub.status.idle": "2022-01-05T20:52:11.269052Z",
     "shell.execute_reply": "2022-01-05T20:52:11.267952Z",
     "shell.execute_reply.started": "2022-01-05T20:51:54.233790Z"
    }
   },
   "outputs": [],
   "source": [
    "pip install contractions"
   ]
  },
  {
   "cell_type": "code",
   "execution_count": 2,
   "metadata": {
    "execution": {
     "iopub.execute_input": "2022-01-05T20:52:11.272980Z",
     "iopub.status.busy": "2022-01-05T20:52:11.272325Z",
     "iopub.status.idle": "2022-01-05T20:52:25.342851Z",
     "shell.execute_reply": "2022-01-05T20:52:25.341665Z",
     "shell.execute_reply.started": "2022-01-05T20:52:11.272929Z"
    }
   },
   "outputs": [],
   "source": [
    "import numpy as np\n",
    "import pandas as pd\n",
    "import spacy\n",
    "import re\n",
    "import nltk\n",
    "import contractions\n",
    "from transformers import AutoTokenizer, AutoModelForQuestionAnswering, AutoModelForSequenceClassification\n",
    "from transformers import pipeline\n"
   ]
  },
  {
   "cell_type": "code",
   "execution_count": 4,
   "metadata": {
    "execution": {
     "iopub.execute_input": "2022-01-05T20:52:35.275073Z",
     "iopub.status.busy": "2022-01-05T20:52:35.274141Z",
     "iopub.status.idle": "2022-01-05T20:52:46.236708Z",
     "shell.execute_reply": "2022-01-05T20:52:46.235626Z",
     "shell.execute_reply.started": "2022-01-05T20:52:35.275027Z"
    }
   },
   "outputs": [],
   "source": [
    "!pip install openpyxl"
   ]
  },
  {
   "cell_type": "code",
   "execution_count": 5,
   "metadata": {
    "execution": {
     "iopub.execute_input": "2022-01-05T20:52:46.239479Z",
     "iopub.status.busy": "2022-01-05T20:52:46.238698Z",
     "iopub.status.idle": "2022-01-05T20:52:46.623652Z",
     "shell.execute_reply": "2022-01-05T20:52:46.622642Z",
     "shell.execute_reply.started": "2022-01-05T20:52:46.239429Z"
    }
   },
   "outputs": [],
   "source": [
    "test=pd.read_excel('../input/enterpret-absa/test.xlsx')\n"
   ]
  },
  {
   "cell_type": "code",
   "execution_count": 6,
   "metadata": {
    "execution": {
     "iopub.execute_input": "2022-01-05T20:52:46.625604Z",
     "iopub.status.busy": "2022-01-05T20:52:46.625252Z",
     "iopub.status.idle": "2022-01-05T20:52:52.091237Z",
     "shell.execute_reply": "2022-01-05T20:52:52.090142Z",
     "shell.execute_reply.started": "2022-01-05T20:52:46.625547Z"
    }
   },
   "outputs": [],
   "source": [
    "nlp = spacy.load('en_core_web_lg')"
   ]
  },
  {
   "cell_type": "code",
   "execution_count": 8,
   "metadata": {
    "execution": {
     "iopub.execute_input": "2022-01-05T20:52:52.105594Z",
     "iopub.status.busy": "2022-01-05T20:52:52.104853Z",
     "iopub.status.idle": "2022-01-05T20:52:52.118595Z",
     "shell.execute_reply": "2022-01-05T20:52:52.117405Z",
     "shell.execute_reply.started": "2022-01-05T20:52:52.105540Z"
    }
   },
   "outputs": [],
   "source": [
    "def preprocess(text):\n",
    "    #to lowercase\n",
    "    text = str(text).lower()\n",
    "    #remove urls\n",
    "   \n",
    "    #remove emails\n",
    "    text = re.sub(r'\\S*@\\S*\\s?',' ',text)\n",
    "    #remove mentions\n",
    "    text = re.sub(r'@\\S+', ' ', text)\n",
    "    #contractions\n",
    "    text = contractions.fix(text)\n",
    "    #remove hashtags\n",
    "    text = re.sub(r'@\\S+', ' ', text)\n",
    "    #remove emojis\n",
    "    text = re.sub(r'[^\\x00-\\x7F]+', ' ', text)\n",
    "\n",
    "    #remove all punct\n",
    "    text = re.sub('[^A-z0-9]', ' ', text)\n",
    "    #remove extras whitespaces\n",
    "    text = re.sub(' +', ' ', text)\n",
    "    return text"
   ]
  },
  {
   "cell_type": "code",
   "execution_count": 9,
   "metadata": {
    "execution": {
     "iopub.execute_input": "2022-01-05T20:52:54.101908Z",
     "iopub.status.busy": "2022-01-05T20:52:54.101582Z",
     "iopub.status.idle": "2022-01-05T20:53:51.216679Z",
     "shell.execute_reply": "2022-01-05T20:53:51.215715Z",
     "shell.execute_reply.started": "2022-01-05T20:52:54.101876Z"
    }
   },
   "outputs": [],
   "source": [
    "\n",
    "qa_model = AutoModelForQuestionAnswering.from_pretrained(\"bert-large-uncased-whole-word-masking-finetuned-squad\")\n",
    "qa_tokenizer = AutoTokenizer.from_pretrained(\"bert-large-uncased-whole-word-masking-finetuned-squad\")\n",
    "qa_model = pipeline('question-answering', model=qa_model, tokenizer=qa_tokenizer)"
   ]
  },
  {
   "cell_type": "code",
   "execution_count": 10,
   "metadata": {
    "execution": {
     "iopub.execute_input": "2022-01-05T20:53:51.218918Z",
     "iopub.status.busy": "2022-01-05T20:53:51.218611Z",
     "iopub.status.idle": "2022-01-05T20:54:21.103233Z",
     "shell.execute_reply": "2022-01-05T20:54:21.102248Z",
     "shell.execute_reply.started": "2022-01-05T20:53:51.218884Z"
    }
   },
   "outputs": [],
   "source": [
    "\n",
    "sent_tokenizer = AutoTokenizer.from_pretrained(\"finiteautomata/bertweet-base-sentiment-analysis\")\n",
    "sent_model = pipeline('sentiment-analysis',model=\"finiteautomata/bertweet-base-sentiment-analysis\",tokenizer=sent_tokenizer)"
   ]
  },
  {
   "cell_type": "code",
   "execution_count": 11,
   "metadata": {
    "execution": {
     "iopub.execute_input": "2022-01-05T20:54:21.105688Z",
     "iopub.status.busy": "2022-01-05T20:54:21.105363Z",
     "iopub.status.idle": "2022-01-05T20:54:21.117476Z",
     "shell.execute_reply": "2022-01-05T20:54:21.112546Z",
     "shell.execute_reply.started": "2022-01-05T20:54:21.105645Z"
    }
   },
   "outputs": [],
   "source": [
    "def get_sentiment(aspect,text,qa_model,sent_model):\n",
    "    \n",
    "    question = f'how is {aspect}'\n",
    "    QA_input = {'question': question, 'context': text}\n",
    "    qa_result = qa_model(QA_input)\n",
    "    answer = qa_result['answer']\n",
    "    print(question)\n",
    "    print(answer)\n",
    "      #sentiment model \n",
    "    sent_result = sent_model(answer)    \n",
    "    print(sent_result)\n",
    "    sentiment = sent_result[0]['label']\n",
    "    print(sentiment)\n",
    "\n",
    "    if sentiment == 'NEG':\n",
    "        sentiment, score = 'Negative', 0\n",
    "    elif sentiment == 'NEU':\n",
    "        sentiment, score = 'Neutral', 1\n",
    "    else:\n",
    "        sentiment, score = 'Positive', 2\n",
    "    \n",
    "\n",
    "    return sentiment"
   ]
  },
  {
   "cell_type": "code",
   "execution_count": 16,
   "metadata": {
    "execution": {
     "iopub.execute_input": "2022-01-05T20:55:49.130047Z",
     "iopub.status.busy": "2022-01-05T20:55:49.129716Z",
     "iopub.status.idle": "2022-01-05T20:55:49.138961Z",
     "shell.execute_reply": "2022-01-05T20:55:49.137934Z",
     "shell.execute_reply.started": "2022-01-05T20:55:49.130013Z"
    }
   },
   "outputs": [],
   "source": [
    "def compute(text, aspect, qa_model, sent_model):\n",
    "    text = preprocess(text)\n",
    "    #noun_list = get_noun(preprocess_text)\n",
    "    #aspect_classes = get_similar_words(noun_list, aspects)\n",
    "   # print(aspect_classes)\n",
    "    #print(noun_list)\n",
    "    aspect=preprocess(aspect)\n",
    "    sentiment_result = get_sentiment(aspect, text, qa_model, sent_model)\n",
    "    return sentiment_result\n",
    "    \n",
    "   \n",
    "    "
   ]
  },
  {
   "cell_type": "code",
   "execution_count": 20,
   "metadata": {
    "execution": {
     "iopub.execute_input": "2022-01-05T20:56:47.063248Z",
     "iopub.status.busy": "2022-01-05T20:56:47.062952Z",
     "iopub.status.idle": "2022-01-05T20:56:55.073303Z",
     "shell.execute_reply": "2022-01-05T20:56:55.072288Z",
     "shell.execute_reply.started": "2022-01-05T20:56:47.063215Z"
    }
   },
   "outputs": [],
   "source": [
    "text = input(\"Enter your text/context: \")\n",
    "print(text)"
   ]
  },
  {
   "cell_type": "code",
   "execution_count": 14,
   "metadata": {
    "execution": {
     "iopub.execute_input": "2022-01-05T20:54:54.591113Z",
     "iopub.status.busy": "2022-01-05T20:54:54.590543Z",
     "iopub.status.idle": "2022-01-05T20:54:56.958857Z",
     "shell.execute_reply": "2022-01-05T20:54:56.957516Z",
     "shell.execute_reply.started": "2022-01-05T20:54:54.591078Z"
    }
   },
   "outputs": [],
   "source": [
    "aspect= input(\"Enter aspect \")\n",
    "print(aspect)"
   ]
  },
  {
   "cell_type": "code",
   "execution_count": 21,
   "metadata": {
    "execution": {
     "iopub.execute_input": "2022-01-05T20:56:59.066517Z",
     "iopub.status.busy": "2022-01-05T20:56:59.065810Z",
     "iopub.status.idle": "2022-01-05T20:56:59.430427Z",
     "shell.execute_reply": "2022-01-05T20:56:59.429429Z",
     "shell.execute_reply.started": "2022-01-05T20:56:59.066482Z"
    }
   },
   "outputs": [],
   "source": []
  },
  {
   "cell_type": "code",
   "execution_count": null,
   "metadata": {},
   "outputs": [],
   "source": []
  }
 ],
 "metadata": {
  "kernelspec": {
   "display_name": "Python 3",
   "language": "python",
   "name": "python3"
  },
  "language_info": {
   "codemirror_mode": {
    "name": "ipython",
    "version": 3
   },
   "file_extension": ".py",
   "mimetype": "text/x-python",
   "name": "python",
   "nbconvert_exporter": "python",
   "pygments_lexer": "ipython3",
   "version": "3.8.8"
  }
 },
 "nbformat": 4,
 "nbformat_minor": 4
}
