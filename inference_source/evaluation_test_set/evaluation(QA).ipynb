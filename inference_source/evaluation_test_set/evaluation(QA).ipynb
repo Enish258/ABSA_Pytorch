{
 "cells": [
  {
   "cell_type": "code",
   "execution_count": 3,
   "metadata": {
    "execution": {
     "iopub.execute_input": "2022-01-05T21:04:54.213128Z",
     "iopub.status.busy": "2022-01-05T21:04:54.212687Z",
     "iopub.status.idle": "2022-01-05T21:05:09.903235Z",
     "shell.execute_reply": "2022-01-05T21:05:09.902229Z",
     "shell.execute_reply.started": "2022-01-05T21:04:54.213095Z"
    }
   },
   "outputs": [],
   "source": [
    "pip install contractions"
   ]
  },
  {
   "cell_type": "code",
   "execution_count": 4,
   "metadata": {
    "execution": {
     "iopub.execute_input": "2022-01-05T21:05:09.905801Z",
     "iopub.status.busy": "2022-01-05T21:05:09.905506Z",
     "iopub.status.idle": "2022-01-05T21:05:21.525863Z",
     "shell.execute_reply": "2022-01-05T21:05:21.525095Z",
     "shell.execute_reply.started": "2022-01-05T21:05:09.905764Z"
    }
   },
   "outputs": [],
   "source": [
    "import numpy as np\n",
    "import pandas as pd\n",
    "import spacy\n",
    "import re\n",
    "import nltk\n",
    "import contractions\n",
    "from transformers import AutoTokenizer, AutoModelForQuestionAnswering, AutoModelForSequenceClassification\n",
    "from transformers import pipeline\n"
   ]
  },
  {
   "cell_type": "code",
   "execution_count": 5,
   "metadata": {
    "execution": {
     "iopub.execute_input": "2022-01-05T21:05:21.527524Z",
     "iopub.status.busy": "2022-01-05T21:05:21.527257Z",
     "iopub.status.idle": "2022-01-05T21:05:31.778865Z",
     "shell.execute_reply": "2022-01-05T21:05:31.777967Z",
     "shell.execute_reply.started": "2022-01-05T21:05:21.527489Z"
    }
   },
   "outputs": [],
   "source": [
    "!pip install openpyxl"
   ]
  },
  {
   "cell_type": "code",
   "execution_count": 6,
   "metadata": {
    "execution": {
     "iopub.execute_input": "2022-01-05T21:05:31.782014Z",
     "iopub.status.busy": "2022-01-05T21:05:31.781454Z",
     "iopub.status.idle": "2022-01-05T21:05:32.084120Z",
     "shell.execute_reply": "2022-01-05T21:05:32.083366Z",
     "shell.execute_reply.started": "2022-01-05T21:05:31.781972Z"
    }
   },
   "outputs": [],
   "source": [
    "test=pd.read_excel('../input/enterpret-absa/test.xlsx')\n"
   ]
  },
  {
   "cell_type": "code",
   "execution_count": null,
   "metadata": {
    "execution": {
     "iopub.status.busy": "2022-01-05T21:04:45.566115Z",
     "iopub.status.idle": "2022-01-05T21:04:45.566529Z",
     "shell.execute_reply": "2022-01-05T21:04:45.566317Z",
     "shell.execute_reply.started": "2022-01-05T21:04:45.566295Z"
    }
   },
   "outputs": [],
   "source": [
    "#nlp = spacy.load('en_core_web_lg')"
   ]
  },
  {
   "cell_type": "code",
   "execution_count": 7,
   "metadata": {
    "execution": {
     "iopub.execute_input": "2022-01-05T21:05:32.085662Z",
     "iopub.status.busy": "2022-01-05T21:05:32.085386Z",
     "iopub.status.idle": "2022-01-05T21:05:32.092945Z",
     "shell.execute_reply": "2022-01-05T21:05:32.092279Z",
     "shell.execute_reply.started": "2022-01-05T21:05:32.085628Z"
    }
   },
   "outputs": [],
   "source": [
    "def preprocess(text):\n",
    "    #to lowercase\n",
    "    text = str(text).lower()\n",
    "    #remove urls\n",
    "   \n",
    "    #remove emails\n",
    "    text = re.sub(r'\\S*@\\S*\\s?',' ',text)\n",
    "    #remove mentions\n",
    "    text = re.sub(r'@\\S+', ' ', text)\n",
    "    #contractions\n",
    "    text = contractions.fix(text)\n",
    "    #remove hashtags\n",
    "    text = re.sub(r'@\\S+', ' ', text)\n",
    "    #remove emojis\n",
    "    text = re.sub(r'[^\\x00-\\x7F]+', ' ', text)\n",
    "\n",
    "    #remove all punct\n",
    "    text = re.sub('[^A-z0-9]', ' ', text)\n",
    "    #remove extras whitespaces\n",
    "    text = re.sub(' +', ' ', text)\n",
    "    return text"
   ]
  },
  {
   "cell_type": "code",
   "execution_count": 8,
   "metadata": {
    "execution": {
     "iopub.execute_input": "2022-01-05T21:05:32.094842Z",
     "iopub.status.busy": "2022-01-05T21:05:32.094332Z",
     "iopub.status.idle": "2022-01-05T21:07:44.396462Z",
     "shell.execute_reply": "2022-01-05T21:07:44.395614Z",
     "shell.execute_reply.started": "2022-01-05T21:05:32.094801Z"
    }
   },
   "outputs": [],
   "source": [
    "#loading the Question answering model\n",
    "qa_model = AutoModelForQuestionAnswering.from_pretrained(\"bert-large-uncased-whole-word-masking-finetuned-squad\")\n",
    "qa_tokenizer = AutoTokenizer.from_pretrained(\"bert-large-uncased-whole-word-masking-finetuned-squad\")\n",
    "qa_model = pipeline('question-answering', model=qa_model, tokenizer=qa_tokenizer)"
   ]
  },
  {
   "cell_type": "code",
   "execution_count": 9,
   "metadata": {
    "execution": {
     "iopub.execute_input": "2022-01-05T21:07:44.400318Z",
     "iopub.status.busy": "2022-01-05T21:07:44.400058Z",
     "iopub.status.idle": "2022-01-05T21:08:52.858237Z",
     "shell.execute_reply": "2022-01-05T21:08:52.857490Z",
     "shell.execute_reply.started": "2022-01-05T21:07:44.400287Z"
    }
   },
   "outputs": [],
   "source": [
    "#loading the sentiment analysis model\n",
    "sent_tokenizer = AutoTokenizer.from_pretrained(\"finiteautomata/bertweet-base-sentiment-analysis\")\n",
    "sent_model = pipeline('sentiment-analysis',model=\"finiteautomata/bertweet-base-sentiment-analysis\",tokenizer=sent_tokenizer)"
   ]
  },
  {
   "cell_type": "code",
   "execution_count": 20,
   "metadata": {
    "execution": {
     "iopub.execute_input": "2022-01-05T21:11:00.042172Z",
     "iopub.status.busy": "2022-01-05T21:11:00.041891Z",
     "iopub.status.idle": "2022-01-05T21:11:00.051029Z",
     "shell.execute_reply": "2022-01-05T21:11:00.050215Z",
     "shell.execute_reply.started": "2022-01-05T21:11:00.042141Z"
    }
   },
   "outputs": [],
   "source": [
    "def get_sentiment(aspect,text,qa_model,sent_model):\n",
    "    \n",
    "    question = f'how is {aspect}'#question from aspect\n",
    "    QA_input = {'question': question, 'context': text}\n",
    "    qa_result = qa_model(QA_input)\n",
    "    answer = qa_result['answer']#qa model result\n",
    "    #print(question)\n",
    "    #print(answer)\n",
    "      #sentiment model \n",
    "    sent_result = sent_model(answer)    \n",
    "    print(sent_result)\n",
    "    sentiment = sent_result[0]['label']\n",
    "    #print(sentiment)\n",
    "\n",
    "    if sentiment == 'NEG':\n",
    "        sentiment, score = 'Negative', 0\n",
    "    elif sentiment == 'NEU':\n",
    "        sentiment, score = 'Neutral', 1\n",
    "    else:\n",
    "        sentiment, score = 'Positive', 2\n",
    "    \n",
    "\n",
    "    return sentiment,score"
   ]
  },
  {
   "cell_type": "code",
   "execution_count": 21,
   "metadata": {
    "execution": {
     "iopub.execute_input": "2022-01-05T21:11:00.457371Z",
     "iopub.status.busy": "2022-01-05T21:11:00.456928Z",
     "iopub.status.idle": "2022-01-05T21:11:00.462292Z",
     "shell.execute_reply": "2022-01-05T21:11:00.461499Z",
     "shell.execute_reply.started": "2022-01-05T21:11:00.457335Z"
    }
   },
   "outputs": [],
   "source": [
    "def compute(text, aspect, qa_model, sent_model):\n",
    "    text = preprocess(text)\n",
    "    #noun_list = get_noun(preprocess_text)\n",
    "    #aspect_classes = get_similar_words(noun_list, aspects)\n",
    "   # print(aspect_classes)\n",
    "    #print(noun_list)\n",
    "    aspect=preprocess(aspect)\n",
    "    sentiment_result ,score= get_sentiment(aspect, text, qa_model, sent_model)\n",
    "    return sentiment_result,score\n",
    "    \n",
    "   \n",
    "    "
   ]
  },
  {
   "cell_type": "code",
   "execution_count": 22,
   "metadata": {
    "execution": {
     "iopub.execute_input": "2022-01-05T21:11:02.621973Z",
     "iopub.status.busy": "2022-01-05T21:11:02.621707Z",
     "iopub.status.idle": "2022-01-05T21:19:30.867500Z",
     "shell.execute_reply": "2022-01-05T21:19:30.866735Z",
     "shell.execute_reply.started": "2022-01-05T21:11:02.621942Z"
    }
   },
   "outputs": [],
   "source": [
    "ans=[]\n",
    "#inference on test set\n",
    "for i in range(len(test)):\n",
    "    text=test.loc[i,'text']\n",
    "    aspect=test.loc[i,'aspect']\n",
    "    sentiment,lab=compute(text,aspect,qa_model,sent_model)\n",
    "    ans.extend([lab])\n",
    "label=pd.Series(ans)\n",
    "    "
   ]
  },
  {
   "cell_type": "code",
   "execution_count": 23,
   "metadata": {
    "execution": {
     "iopub.execute_input": "2022-01-05T21:19:30.870588Z",
     "iopub.status.busy": "2022-01-05T21:19:30.869059Z",
     "iopub.status.idle": "2022-01-05T21:19:30.874482Z",
     "shell.execute_reply": "2022-01-05T21:19:30.873649Z",
     "shell.execute_reply.started": "2022-01-05T21:19:30.870548Z"
    }
   },
   "outputs": [],
   "source": [
    "data=test.copy()"
   ]
  },
  {
   "cell_type": "code",
   "execution_count": 24,
   "metadata": {
    "execution": {
     "iopub.execute_input": "2022-01-05T21:19:30.876028Z",
     "iopub.status.busy": "2022-01-05T21:19:30.875747Z",
     "iopub.status.idle": "2022-01-05T21:19:30.896583Z",
     "shell.execute_reply": "2022-01-05T21:19:30.895915Z",
     "shell.execute_reply.started": "2022-01-05T21:19:30.875982Z"
    }
   },
   "outputs": [],
   "source": [
    "data['label']=label\n",
    "\n",
    "data.to_csv('aq_sent_.csv')"
   ]
  },
  {
   "cell_type": "code",
   "execution_count": null,
   "metadata": {},
   "outputs": [],
   "source": []
  }
 ],
 "metadata": {
  "kernelspec": {
   "display_name": "Python 3",
   "language": "python",
   "name": "python3"
  },
  "language_info": {
   "codemirror_mode": {
    "name": "ipython",
    "version": 3
   },
   "file_extension": ".py",
   "mimetype": "text/x-python",
   "name": "python",
   "nbconvert_exporter": "python",
   "pygments_lexer": "ipython3",
   "version": "3.8.8"
  }
 },
 "nbformat": 4,
 "nbformat_minor": 4
}
